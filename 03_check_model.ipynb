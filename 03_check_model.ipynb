{
 "cells": [
  {
   "cell_type": "markdown",
   "id": "858a2926-4cac-41f5-b136-d3e4d7025260",
   "metadata": {},
   "source": [
    "# Checking the model"
   ]
  },
  {
   "cell_type": "markdown",
   "id": "7fbd9832-0501-4b2c-a01f-d843b741ca60",
   "metadata": {},
   "source": [
    "## Initialization\n",
    "There is only one parameter to enter here, the key you got from the instructions. It will allow to decrypt the data needed to access the content of the bucket where the model is stored."
   ]
  },
  {
   "cell_type": "code",
   "execution_count": 1,
   "id": "50216a14-e96e-47b2-848c-61faf15dfb60",
   "metadata": {},
   "outputs": [],
   "source": [
    "# Enter the key here (keep the quotes around it)\n",
    "key = ''"
   ]
  },
  {
   "cell_type": "markdown",
   "id": "506c9696-4cff-4281-bfb5-1d46c39e7b6f",
   "metadata": {},
   "source": [
    "## You can now execute all the cells in the notebook"
   ]
  },
  {
   "cell_type": "code",
   "execution_count": 2,
   "id": "2494a231-ea85-416b-8267-f9dcc9c45c16",
   "metadata": {},
   "outputs": [
    {
     "name": "stdout",
     "output_type": "stream",
     "text": [
      "\n",
      "\u001b[1m[\u001b[0m\u001b[34;49mnotice\u001b[0m\u001b[1;39;49m]\u001b[0m\u001b[39;49m A new release of pip available: \u001b[0m\u001b[31;49m22.2.2\u001b[0m\u001b[39;49m -> \u001b[0m\u001b[32;49m23.3.1\u001b[0m\n",
      "\u001b[1m[\u001b[0m\u001b[34;49mnotice\u001b[0m\u001b[1;39;49m]\u001b[0m\u001b[39;49m To update, run: \u001b[0m\u001b[32;49mpip install --upgrade pip\u001b[0m\n"
     ]
    }
   ],
   "source": [
    "# Install needed libraries\n",
    "!pip install -q cryptography"
   ]
  },
  {
   "cell_type": "code",
   "execution_count": 3,
   "id": "d838093a-22ca-40dd-9e7a-1f510a4ec7f6",
   "metadata": {},
   "outputs": [
    {
     "name": "stdout",
     "output_type": "stream",
     "text": [
      "Here are the info you will need in the next section:\n",
      "----------------------------------------------------\n",
      "Access key: [removed]\n",
      "Secret key: [removed]\n",
      "Bucket name: rh-mad-workshop-m6\n"
     ]
    }
   ],
   "source": [
    "# Decrypt and set some parameters\n",
    "from cryptography.fernet import Fernet\n",
    "f = Fernet(key)\n",
    "with open('connection', 'r') as file:\n",
    "    # Read all lines into a list variable\n",
    "    lines = file.readlines()\n",
    "aws_access_key_id = f.decrypt(lines[0]).decode('utf-8')\n",
    "aws_secret_access_key = f.decrypt(lines[1]).decode('utf-8')\n",
    "\n",
    "# Don't change the bucket name\n",
    "bucket_name = 'rh-mad-workshop-m6'\n",
    "\n",
    "print(\"Here are the info you will need in the next section:\")\n",
    "print(\"----------------------------------------------------\")\n",
    "print(f\"Access key: {aws_access_key_id}\")\n",
    "print(f\"Secret key: {aws_secret_access_key}\")\n",
    "print(f\"Bucket name: {bucket_name}\")"
   ]
  },
  {
   "cell_type": "markdown",
   "id": "b29ba30e",
   "metadata": {},
   "source": [
    "**Please save these information somewhere or leave this notebook open. We will need them later on.**"
   ]
  },
  {
   "cell_type": "markdown",
   "id": "69b04e11-7e7f-429b-b3f5-c5a8d452d7d2",
   "metadata": {},
   "source": [
    "## Imports\n",
    "Of course we will need to use some libraries to access the storage, so import them by running the following cell. Boto3 is the standard library (from AWS) to interact with all their services."
   ]
  },
  {
   "cell_type": "code",
   "execution_count": 4,
   "id": "b428ad81-7a7a-4731-9dfc-4377d335eff2",
   "metadata": {},
   "outputs": [],
   "source": [
    "import boto3\n",
    "import botocore"
   ]
  },
  {
   "cell_type": "markdown",
   "id": "f6e70706-bb61-4c99-81dc-24a12555ebcb",
   "metadata": {},
   "source": [
    "## S3 Client\n",
    "\n",
    "Now, let's create the client that will be used for the connection (you can that see we are using the parameters we defined earlier)."
   ]
  },
  {
   "cell_type": "code",
   "execution_count": 5,
   "id": "7dabc747-874c-4902-8b13-da9509f47b62",
   "metadata": {},
   "outputs": [],
   "source": [
    "s3 = boto3.client('s3',\n",
    "                aws_access_key_id = aws_access_key_id,\n",
    "                aws_secret_access_key = aws_secret_access_key,\n",
    "                region_name = 'us-east-1')"
   ]
  },
  {
   "cell_type": "markdown",
   "id": "c2df1185-ad73-4a2c-a644-4f84d096f776",
   "metadata": {},
   "source": [
    "## Verify that we can connect and see our bucket"
   ]
  },
  {
   "cell_type": "code",
   "execution_count": 6,
   "id": "93162e28-17a1-4d72-bef3-4b48dff63ec3",
   "metadata": {},
   "outputs": [
    {
     "name": "stdout",
     "output_type": "stream",
     "text": [
      "Everything seems right, I can connect!\n",
      "{'ResponseMetadata': {'RequestId': '5V7JQ7WFDV2RWA7B', 'HostId': 'JnMX/CCCBksdx30G8x/OLmDo1pL2l9M0JM9RHqYa3PQnnjmG3vRq0/Ca/YDc0QVw3M8/JiFnlZo=', 'HTTPStatusCode': 200, 'HTTPHeaders': {'x-amz-id-2': 'JnMX/CCCBksdx30G8x/OLmDo1pL2l9M0JM9RHqYa3PQnnjmG3vRq0/Ca/YDc0QVw3M8/JiFnlZo=', 'x-amz-request-id': '5V7JQ7WFDV2RWA7B', 'date': 'Mon, 11 Dec 2023 20:55:15 GMT', 'x-amz-bucket-region': 'us-east-1', 'x-amz-access-point-alias': 'false', 'content-type': 'application/xml', 'server': 'AmazonS3'}, 'RetryAttempts': 0}}\n"
     ]
    }
   ],
   "source": [
    "connect = s3.head_bucket(Bucket=bucket_name)\n",
    "if connect['ResponseMetadata']['HTTPStatusCode'] == 200:\n",
    "    print(\"Everything seems right, I can connect!\")\n",
    "    print(connect)\n",
    "else:\n",
    "    print(\"Hum, there seems to be a problem...\")"
   ]
  },
  {
   "cell_type": "markdown",
   "id": "c41ae013-2401-4571-8dea-fe9e379417e4",
   "metadata": {},
   "source": [
    "## Verify the location of the model inside the bucket"
   ]
  },
  {
   "cell_type": "code",
   "execution_count": 17,
   "id": "eceb66a6-ac76-4a18-a3f0-1789a04a0666",
   "metadata": {
    "tags": []
   },
   "outputs": [
    {
     "name": "stdout",
     "output_type": "stream",
     "text": [
      "coolstore-model/\n",
      "coolstore-model/coolstore_3000images_300epochs.onnx\n"
     ]
    }
   ],
   "source": [
    "response = s3.list_objects(Bucket=bucket_name)\n",
    "\n",
    "if 'Contents' in response:\n",
    "    for content in response['Contents']:\n",
    "        print(content['Key'])\n",
    "else:\n",
    "    print(\"Bucket is empty\")\n",
    "    \n",
    "# s3.copy(\"rh-mad-workshop-m6\", \"coolstore-model/\")\n",
    "\n",
    "# https://boto3.amazonaws.com/v1/documentation/api/latest/guide/s3-example-download-file.html\n",
    "\n",
    "s3.download_file(\"rh-mad-workshop-m6\", \"coolstore-model/coolstore_3000images_300epochs.onnx\", \"coolstore_3000images_300epochs.onnx\")"
   ]
  },
  {
   "cell_type": "markdown",
   "id": "34db73d8-17da-404a-a0c0-bc281adb7550",
   "metadata": {},
   "source": [
    "## Now \n",
    "#### - manually download coolstore_3000images_300epochs.onnx to your laptop from Jupyter where it should now be\n",
    "#### - Create a Minio implemenation in a new project called 'minio'\n",
    "#### - Upload coolstore_3000images_300epochs.onnx to a public bucket called 'models' in Minio"
   ]
  },
  {
   "cell_type": "markdown",
   "id": "5139afe8-3bf9-4ad8-83c7-128cd5f7ee1a",
   "metadata": {},
   "source": [
    "## Download Model from Minio Object Storage"
   ]
  },
  {
   "cell_type": "markdown",
   "id": "68dfc31a-128f-4114-a756-d75fe931e88c",
   "metadata": {},
   "source": [
    "Perfect, we can see that the file is located inside the **coolstore-model** folder!\n",
    "\n",
    "You can now get back to the instructions."
   ]
  },
  {
   "cell_type": "code",
   "execution_count": 22,
   "id": "16985634-51a1-4249-8034-291db7355211",
   "metadata": {},
   "outputs": [
    {
     "name": "stdout",
     "output_type": "stream",
     "text": [
      "Requirement already satisfied: minio in /opt/app-root/lib/python3.9/site-packages (7.1.17)\n",
      "Requirement already satisfied: certifi in /opt/app-root/lib/python3.9/site-packages (from minio) (2023.7.22)\n",
      "Requirement already satisfied: urllib3 in /opt/app-root/lib/python3.9/site-packages (from minio) (1.26.17)\n",
      "\n",
      "\u001b[1m[\u001b[0m\u001b[34;49mnotice\u001b[0m\u001b[1;39;49m]\u001b[0m\u001b[39;49m A new release of pip available: \u001b[0m\u001b[31;49m22.2.2\u001b[0m\u001b[39;49m -> \u001b[0m\u001b[32;49m23.3.1\u001b[0m\n",
      "\u001b[1m[\u001b[0m\u001b[34;49mnotice\u001b[0m\u001b[1;39;49m]\u001b[0m\u001b[39;49m To update, run: \u001b[0m\u001b[32;49mpip install --upgrade pip\u001b[0m\n"
     ]
    }
   ],
   "source": [
    "!pip install minio"
   ]
  },
  {
   "cell_type": "code",
   "execution_count": 23,
   "id": "70fc0b59-f51a-4d4d-a916-ebb5ce42be2d",
   "metadata": {},
   "outputs": [],
   "source": [
    "from minio import Minio\n"
   ]
  },
  {
   "cell_type": "code",
   "execution_count": 24,
   "id": "a7f35736-0b52-45c6-bb1c-d71ec70b7c0f",
   "metadata": {},
   "outputs": [],
   "source": [
    "def get_s3_server():\n",
    "    minioClient = Minio('minio-service.minio.svc.cluster.local:9000',\n",
    "                    access_key='minio',\n",
    "                    secret_key='minio123',\n",
    "                    secure=False)\n",
    "\n",
    "    return minioClient\n",
    "            "
   ]
  },
  {
   "cell_type": "code",
   "execution_count": 31,
   "id": "038ba286-e85d-45c3-b0df-224d5fc16f76",
   "metadata": {},
   "outputs": [],
   "source": [
    "def download_models(minio_client, s3_folder_path):\n",
    "    # not tested code\n",
    "    # it will get all the files from the user bucket\n",
    "    # models = minio_client.list_objects(\"models\", recursive=True, prefix=f\"/{s3_folder_path}\")\n",
    "    models = minio_client.list_objects(\"models\", recursive=True)\n",
    "    print(models)\n",
    "    for model in models:\n",
    "        print(model)\n",
    "        modelname = model.object_name\n",
    "        print(modelname)\n",
    "        minio_client.fget_object('models', modelname, \"/tmp/\"+modelname)"
   ]
  },
  {
   "cell_type": "code",
   "execution_count": 35,
   "id": "6e1d27a5-961e-463f-9d43-94ba18a23bf3",
   "metadata": {},
   "outputs": [
    {
     "name": "stdout",
     "output_type": "stream",
     "text": [
      "<generator object Minio._list_objects at 0x7f156014fba0>\n",
      "<minio.datatypes.Object object at 0x7f1560553340>\n",
      "coolstore_3000images_300epochs.onnx\n"
     ]
    }
   ],
   "source": [
    "minioClient = get_s3_server()\n",
    "\n",
    "download_models(minioClient, \"\")\n",
    "\n",
    "# model_file = open(\"/tmp/coolstore_3000images_300epochs.onnx\", \"r\")\n",
    "\n",
    "# print(model_file.__sizeof__())"
   ]
  },
  {
   "cell_type": "code",
   "execution_count": 36,
   "id": "367042ab-2af0-44fe-80ab-1d23b5a71c74",
   "metadata": {},
   "outputs": [
    {
     "name": "stdout",
     "output_type": "stream",
     "text": [
      "os.stat_result(st_mode=33188, st_ino=38099189, st_dev=2097218, st_nlink=1, st_uid=1000720000, st_gid=0, st_size=83924139, st_atime=1702356824, st_mtime=1702356825, st_ctime=1702356825)\n",
      "File Size in Bytes is 83924139\n",
      "File Size in MegaBytes is 80.0362958908081\n"
     ]
    }
   ],
   "source": [
    "import os\n",
    "\n",
    "file_stats = os.stat(\"/tmp/coolstore_3000images_300epochs.onnx\")\n",
    "\n",
    "print(file_stats)\n",
    "print(f'File Size in Bytes is {file_stats.st_size}')\n",
    "print(f'File Size in MegaBytes is {file_stats.st_size / (1024 * 1024)}')"
   ]
  },
  {
   "cell_type": "code",
   "execution_count": null,
   "id": "85a848e2-6a77-4859-9349-3ef947a65314",
   "metadata": {},
   "outputs": [],
   "source": []
  }
 ],
 "metadata": {
  "kernelspec": {
   "display_name": "Python 3.9",
   "language": "python",
   "name": "python3"
  },
  "language_info": {
   "codemirror_mode": {
    "name": "ipython",
    "version": 3
   },
   "file_extension": ".py",
   "mimetype": "text/x-python",
   "name": "python",
   "nbconvert_exporter": "python",
   "pygments_lexer": "ipython3",
   "version": "3.9.16"
  }
 },
 "nbformat": 4,
 "nbformat_minor": 5
}
